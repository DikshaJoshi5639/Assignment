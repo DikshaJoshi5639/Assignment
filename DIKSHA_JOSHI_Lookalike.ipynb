import pandas as pd
from sklearn.metrics.pairwise import cosine_similarity
from sklearn.preprocessing import MinMaxScaler

customers = pd.read_csv('Customers.csv')
products = pd.read_csv('Products.csv')
transactions = pd.read_csv('Transactions.csv')

merged_data = pd.merge(transactions, products, on='ProductID')
merged_data = pd.merge(merged_data, customers, on='CustomerID')

customer_features = merged_data.groupby('CustomerID').agg({
    'TotalValue': 'sum',
    'Quantity': 'sum',
    'ProductID': 'nunique'
}).reset_index()

scaler = MinMaxScaler()
customer_features[['TotalValue', 'Quantity', 'ProductID']] = scaler.fit_transform(
    customer_features[['TotalValue', 'Quantity', 'ProductID']]
)

similarity_matrix = cosine_similarity(customer_features[['TotalValue', 'Quantity', 'ProductID']])
similarity_df = pd.DataFrame(
    similarity_matrix, index=customer_features['CustomerID'], columns=customer_features['CustomerID']
)

# Get top 3 lookalikes
def get_top_3_lookalikes(similarity_df, customer_id):
    similar_customers = similarity_df[customer_id].sort_values(ascending=False).iloc[1:4]
    return list(zip(similar_customers.index, similar_customers.values))

# Generate lookalike recommendations
lookalike_map = {}
for customer_id in customer_features['CustomerID'][:20]:
    lookalike_map[customer_id] = get_top_3_lookalikes(similarity_df, customer_id)

# Save recommendations to DataFrame
lookalike_list = []
for cust_id, lookalikes in lookalike_map.items():
    lookalike_list.append({
        'CustomerID': cust_id,
        'Lookalikes': [l[0] for l in lookalikes],
        'Scores': [l[1] for l in lookalikes]
    })
lookalike_df = pd.DataFrame(lookalike_list)
lookalike_df.to_csv('Lookalike.csv', index=False)

# Evaluate the model
def evaluate_similarity_model(similarity_matrix):
    diagonal = similarity_matrix.diagonal()
    diagonal_percentage = (sum(diagonal == 1) / len(diagonal)) * 100
    average_similarity = similarity_matrix.mean()
    print(f"Diagonal Accuracy Percentage: {diagonal_percentage:.2f}%")
    print(f"Average Similarity: {average_similarity:.4f}")

evaluate_similarity_model(similarity_matrix)

print("Lookalike.csv has been generated.")
